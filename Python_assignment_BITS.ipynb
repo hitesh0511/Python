{
 "cells": [
  {
   "cell_type": "markdown",
   "id": "115785ad",
   "metadata": {},
   "source": [
    "Given a number, find the sum of its digits. Take the number as\n",
    "an input from the user."
   ]
  },
  {
   "cell_type": "code",
   "execution_count": 23,
   "id": "d2722403",
   "metadata": {
    "scrolled": true
   },
   "outputs": [
    {
     "name": "stdout",
     "output_type": "stream",
     "text": [
      "Enter your number \n",
      "999999\n",
      "54\n"
     ]
    }
   ],
   "source": [
    "sum1 = 0\n",
    "a = input('Enter your number \\n')\n",
    "l= []\n",
    "for i in a:\n",
    "    l.append(int(i))\n",
    "for j in l:\n",
    "    sum1 = sum(l)\n",
    "print(sum1)"
   ]
  },
  {
   "cell_type": "raw",
   "id": "88ff3bc8",
   "metadata": {},
   "source": [
    "Given a number, check whether the given number is an\n",
    "Armstrong number or not. A positive integer is called an\n",
    "Armstrong number of order n if:\n",
    "abcd... = an\n",
    "\n",
    "+ bn + cn\n",
    "+ dn\n",
    "+ ...\n",
    "\n",
    "Example: 153 = 1*1*1 + 5*5*5 + 3*3*3\n",
    "153 is an Armstrong number of order 3.\n",
    "Inputs from the user will be number and order n."
   ]
  },
  {
   "cell_type": "code",
   "execution_count": 40,
   "id": "30936598",
   "metadata": {},
   "outputs": [
    {
     "name": "stdout",
     "output_type": "stream",
     "text": [
      "enter your number \n",
      "8209\n",
      "number is not armstrong number\n"
     ]
    }
   ],
   "source": [
    "a = input('enter your number \\n')\n",
    "count = len(a)\n",
    "l = []\n",
    "product = 0\n",
    "for i in a:\n",
    "    l.append(int(i))\n",
    "    product = product + int(i)**count\n",
    "if product == int(a):\n",
    "    print('the number',a,'is Armstrong number of power',count)\n",
    "else:\n",
    "    print('number is not armstrong number')"
   ]
  },
  {
   "cell_type": "raw",
   "id": "96cbb05e",
   "metadata": {},
   "source": [
    "Given a string, write a python function to check if it is\n",
    "palindrome or not. A string is said to be palindrome if the reverse\n",
    "of the string is the same as string. For example, “malayalam” is a\n",
    "palindrome, but “music” is not a palindrome."
   ]
  },
  {
   "cell_type": "code",
   "execution_count": 45,
   "id": "41b7021d",
   "metadata": {},
   "outputs": [
    {
     "name": "stdout",
     "output_type": "stream",
     "text": [
      "Input the string \n",
      "malayalam\n",
      "String is palindrome\n"
     ]
    }
   ],
   "source": [
    "string = input('Input the string \\n') ##take the input of string\n",
    "\n",
    "if string == string[::-1]:  ##check if reverse is same as original string\n",
    "    print('String is palindrome')\n",
    "else:\n",
    "    print('string is not palindrome')"
   ]
  },
  {
   "cell_type": "markdown",
   "id": "5dfe5d11",
   "metadata": {},
   "source": [
    "Given an array which may contain duplicates, print all elements\n",
    "and their frequencies."
   ]
  },
  {
   "cell_type": "code",
   "execution_count": 11,
   "id": "058fd5a7",
   "metadata": {},
   "outputs": [
    {
     "name": "stdout",
     "output_type": "stream",
     "text": [
      "for element 1 the frequency is 2\n",
      "for element 2 the frequency is 4\n",
      "for element 3 the frequency is 1\n",
      "for element 4 the frequency is 1\n",
      "for element hitesh the frequency is 1\n",
      "for element 22 the frequency is 1\n"
     ]
    }
   ],
   "source": [
    "a = [1,2,3,4,'hitesh',1,2,2,2,22 ]\n",
    "b = set(a)\n",
    "\n",
    "for i in b:\n",
    "    z = a.count(i)\n",
    "    print('for element',i,'the frequency is',z)\n"
   ]
  },
  {
   "cell_type": "markdown",
   "id": "c062dc31",
   "metadata": {},
   "source": [
    "Input a text file (containing 1 or more paragraphs of English\n",
    "text) from the user, parse this file to display the frequency of\n",
    "occurrence of each word in this text file. Find the 3 most frequent\n",
    "words as well."
   ]
  },
  {
   "cell_type": "code",
   "execution_count": 12,
   "id": "90e1f8de",
   "metadata": {},
   "outputs": [
    {
     "name": "stdout",
     "output_type": "stream",
     "text": [
      "enter your paragraph\n",
      "Earth is the only planet known to have liquid water on its surface. The Earth's surface is 70% water and only 30% land. Water bodies such as oceans, rivers, lakes, glaciers, and seas make up 70% of the water content on Earth. \n",
      "The 1\n",
      "lakes, 1\n",
      "liquid 1\n",
      "water 3\n",
      "as 1\n",
      "such 1\n",
      "land. 1\n",
      "of 1\n",
      "rivers, 1\n",
      "content 1\n",
      "Earth's 1\n",
      "bodies 1\n",
      "glaciers, 1\n",
      "and 2\n",
      "70% 2\n",
      "up 1\n",
      "have 1\n",
      "planet 1\n",
      "is 2\n",
      "Water 1\n",
      "30% 1\n",
      "Earth. 1\n",
      "Earth 1\n",
      "make 1\n",
      "surface 1\n",
      "seas 1\n",
      "surface. 1\n",
      "on 2\n",
      "its 1\n",
      "the 2\n",
      "known 1\n",
      "only 2\n",
      "oceans, 1\n",
      "to 1\n"
     ]
    }
   ],
   "source": [
    "usr_input = input('enter your paragraph\\n') #taking input \n",
    "new_para = usr_input.split() ##split whole para ans save in list\n",
    "new_para_set = set(new_para) ##conerting list to set\n",
    "\n",
    "for i in new_para_set: ##running loop on set and comparing it to list\n",
    "    m = new_para.count(i)\n",
    "    print(i,m) ##print list element and the frequency"
   ]
  },
  {
   "cell_type": "code",
   "execution_count": null,
   "id": "3ce346d0",
   "metadata": {},
   "outputs": [],
   "source": []
  }
 ],
 "metadata": {
  "kernelspec": {
   "display_name": "Python 3 (ipykernel)",
   "language": "python",
   "name": "python3"
  },
  "language_info": {
   "codemirror_mode": {
    "name": "ipython",
    "version": 3
   },
   "file_extension": ".py",
   "mimetype": "text/x-python",
   "name": "python",
   "nbconvert_exporter": "python",
   "pygments_lexer": "ipython3",
   "version": "3.11.4"
  }
 },
 "nbformat": 4,
 "nbformat_minor": 5
}
