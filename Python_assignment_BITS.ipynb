{
 "cells": [
  {
   "cell_type": "markdown",
   "id": "115785ad",
   "metadata": {},
   "source": [
    "Given a number, find the sum of its digits. Take the number as\n",
    "an input from the user."
   ]
  },
  {
   "cell_type": "code",
   "execution_count": 23,
   "id": "d2722403",
   "metadata": {
    "scrolled": true
   },
   "outputs": [
    {
     "name": "stdout",
     "output_type": "stream",
     "text": [
      "Enter your number \n",
      "999999\n",
      "54\n"
     ]
    }
   ],
   "source": [
    "sum1 = 0\n",
    "a = input('Enter your number \\n')\n",
    "l= []\n",
    "for i in a:\n",
    "    l.append(int(i))\n",
    "for j in l:\n",
    "    sum1 = sum(l)\n",
    "print(sum1)"
   ]
  },
  {
   "cell_type": "raw",
   "id": "88ff3bc8",
   "metadata": {},
   "source": [
    "Given a number, check whether the given number is an\n",
    "Armstrong number or not. A positive integer is called an\n",
    "Armstrong number of order n if:\n",
    "abcd... = an\n",
    "\n",
    "+ bn + cn\n",
    "+ dn\n",
    "+ ...\n",
    "\n",
    "Example: 153 = 1*1*1 + 5*5*5 + 3*3*3\n",
    "153 is an Armstrong number of order 3.\n",
    "Inputs from the user will be number and order n."
   ]
  },
  {
   "cell_type": "code",
   "execution_count": 40,
   "id": "30936598",
   "metadata": {},
   "outputs": [
    {
     "name": "stdout",
     "output_type": "stream",
     "text": [
      "enter your number \n",
      "8209\n",
      "number is not armstrong number\n"
     ]
    }
   ],
   "source": [
    "a = input('enter your number \\n')\n",
    "count = len(a)\n",
    "l = []\n",
    "product = 0\n",
    "for i in a:\n",
    "    l.append(int(i))\n",
    "    product = product + int(i)**count\n",
    "if product == int(a):\n",
    "    print('the number',a,'is Armstrong number of power',count)\n",
    "else:\n",
    "    print('number is not armstrong number')"
   ]
  },
  {
   "cell_type": "raw",
   "id": "96cbb05e",
   "metadata": {},
   "source": [
    "Given a string, write a python function to check if it is\n",
    "palindrome or not. A string is said to be palindrome if the reverse\n",
    "of the string is the same as string. For example, “malayalam” is a\n",
    "palindrome, but “music” is not a palindrome."
   ]
  },
  {
   "cell_type": "code",
   "execution_count": 45,
   "id": "41b7021d",
   "metadata": {},
   "outputs": [
    {
     "name": "stdout",
     "output_type": "stream",
     "text": [
      "Input the string \n",
      "malayalam\n",
      "String is palindrome\n"
     ]
    }
   ],
   "source": [
    "string = input('Input the string \\n') ##take the input of string\n",
    "\n",
    "if string == string[::-1]:  ##check if reverse is same as original string\n",
    "    print('String is palindrome')\n",
    "else:\n",
    "    print('string is not palindrome')"
   ]
  }
 ],
 "metadata": {
  "kernelspec": {
   "display_name": "Python 3 (ipykernel)",
   "language": "python",
   "name": "python3"
  },
  "language_info": {
   "codemirror_mode": {
    "name": "ipython",
    "version": 3
   },
   "file_extension": ".py",
   "mimetype": "text/x-python",
   "name": "python",
   "nbconvert_exporter": "python",
   "pygments_lexer": "ipython3",
   "version": "3.11.4"
  }
 },
 "nbformat": 4,
 "nbformat_minor": 5
}
